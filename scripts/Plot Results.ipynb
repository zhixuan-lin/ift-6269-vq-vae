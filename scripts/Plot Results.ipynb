{
 "cells": [
  {
   "cell_type": "code",
   "execution_count": 1,
   "id": "collaborative-fifteen",
   "metadata": {},
   "outputs": [],
   "source": [
    "import pandas as pd\n",
    "import seaborn as sns\n",
    "import matplotlib.pyplot as plt"
   ]
  },
  {
   "cell_type": "code",
   "execution_count": 2,
   "id": "lesbian-essex",
   "metadata": {},
   "outputs": [],
   "source": [
    "VALID_DATASET_NAMES = [\n",
    "    'Tiny Imagenet',\n",
    "    'CIFAR-10',\n",
    "]\n",
    "\n",
    "# First level dictionary keys should be the name of the method.  Each method\n",
    "# name should map to a second level dictionary.  The second level dictionary's\n",
    "# keys should be the dataset name, and these keys should map to the `metrics.csv`\n",
    "# file for the results with that method and on that dataset.  Thus, we create\n",
    "# a unique mapping between (method, dataset, results_file) triplets.\n",
    "#\n",
    "# NOTE 1: Dataset names should either be \"Tiny Imagenet\" or \"CIFAR-10\".  If they\n",
    "# are set to anything else, an error will be thrown.\n",
    "#\n",
    "# NOTE 2: Values are set below for demonstration and should be changed.\n",
    "RESULT_FILE_METHODS_AND_PATHS = {\n",
    "    'VQ-VAE': {\n",
    "        'Tiny Imagenet': '/Users/jarrid/repos/ift-6269-vq-vae/results/vqvae_dl_tiny_imagenet_15/metrics.csv'\n",
    "    },\n",
    "}"
   ]
  },
  {
   "cell_type": "code",
   "execution_count": 3,
   "id": "ecological-collective",
   "metadata": {},
   "outputs": [],
   "source": [
    "def _check_dataset_name(dataset_name: str):\n",
    "    if dataset_name not in VALID_DATASET_NAMES:\n",
    "        raise ValueError(\n",
    "            'Dataset names must be one of %s or %s, but found %s' % (\n",
    "                VALID_DATASET_NAMES[0],\n",
    "                VALID_DATASET_NAMES[1],\n",
    "                dataset_name\n",
    "            )\n",
    "        )\n",
    "\n",
    "def _load_all_metrics_df() -> pd.DataFrame:\n",
    "    dfs = []\n",
    "    \n",
    "    for method_name, method_dataset_results_dict in RESULT_FILE_METHODS_AND_PATHS.items():\n",
    "        for dataset_name, results_path in method_dataset_results_dict.items():\n",
    "            _check_dataset_name(dataset_name)\n",
    "            \n",
    "            df = pd.read_csv(results_path)\n",
    "            df['Method'] = method_name\n",
    "            df['Dataset'] = dataset_name\n",
    "            \n",
    "            dfs.append(df)\n",
    "            \n",
    "    return pd.concat(dfs)\n",
    "        \n",
    "def plot(\n",
    "    metric_name: str,\n",
    "    method_name: str=None, \n",
    "    dataset_name: str=None, \n",
    "    x_axis_metric: str='step',\n",
    "    sns_plot_fxn_name: str='lineplot',\n",
    "    hue_column: str=None,\n",
    "    title: str=None,\n",
    "    x_label: str=None,\n",
    "    y_label: str=None,\n",
    "    **kwargs\n",
    ") -> None:\n",
    "    \"\"\"Plots your results!\n",
    "    \n",
    "    Args:\n",
    "        metric_name: str -- Name of the metric you'd like to plot\n",
    "        method_name: str -- Optionally set to the method you'd like to plot for.\n",
    "                            If it is set, then the plot will only include results\n",
    "                            for that method.  If not set, the method plots results \n",
    "                            for all methods.\n",
    "                            \n",
    "        dataset_name: str -- Similar to method_name, optionally sets the dataset you'd\n",
    "                             like to plot for.  This can be used in conjunction with\n",
    "                             method_name.\n",
    "                             \n",
    "        x_axis_metric: str -- The metric that should go on the X-axis.\n",
    "        sns_plot_fxn_name: str -- This method uses seaborn for plotting.  This argument\n",
    "                                  tells the method which seaborn method to use to plot.\n",
    "                                  Default behavior is lineplot, but can be set to the name\n",
    "                                  of any of the plots here: https://seaborn.pydata.org/api.html.\n",
    "                                  \n",
    "        hue_column: str -- The name of the column in the result sets to use as the hue \n",
    "                           parameter for seaborn (see seaborn docs for details on the\n",
    "                           hue parameter).  Set to None by default.\n",
    "        \n",
    "        title: str -- Optionally set the title for the plot.\n",
    "        x_label: str -- Optionally set the X-axis label for the plot.\n",
    "        y_label: str -- Optionally set the Y-axis label for the plot.\n",
    "        **kwargs -- Extra arguments to be passed to the seaborn plotting function.\n",
    "                    See seaborn docs for details on using **kwargs with their\n",
    "                    plotting methods (e.g., on \n",
    "                    https://seaborn.pydata.org/generated/seaborn.scatterplot.html).\n",
    "    \n",
    "    Returns:\n",
    "        Nada, nothing, zip\n",
    "    \"\"\"\n",
    "    all_df = _load_all_metrics_df()\n",
    "    \n",
    "    if method_name is not None:\n",
    "        all_df = all_df[all_df['Method'] == method_name]\n",
    "        \n",
    "    if dataset_name is not None:\n",
    "        all_df = all_df[all_df['Dataset'] == dataset_name]\n",
    "        \n",
    "    plot_fxn = getattr(sns, sns_plot_fxn_name)\n",
    "    ax = plot_fxn(\n",
    "        data=all_df, \n",
    "        x=x_axis_metric, \n",
    "        y=metric_name, \n",
    "        hue=hue_column, \n",
    "        **kwargs\n",
    "    )\n",
    "    \n",
    "    if title:\n",
    "        ax.set_title(title)\n",
    "    \n",
    "    if x_label:\n",
    "        ax.set_xlabel(x_label)\n",
    "        \n",
    "    if y_label:\n",
    "        ax.set_ylabel(y_label)"
   ]
  },
  {
   "cell_type": "code",
   "execution_count": 4,
   "id": "conscious-marathon",
   "metadata": {},
   "outputs": [
    {
     "data": {
      "image/png": "[encoded data removed]",
      "text/plain": [
       "<Figure size 432x288 with 1 Axes>"
      ]
     },
     "metadata": {
      "needs_background": "light"
     },
     "output_type": "display_data"
    }
   ],
   "source": [
    "plot(\n",
    "    'train/nll_lb_epoch', \n",
    "    title='Train Negative Log Likelihood', \n",
    "    x_label='Training Iteration',\n",
    "    y_label='Negative Log Likelihood'\n",
    ")"
   ]
  },
  {
   "cell_type": "code",
   "execution_count": null,
   "id": "labeled-groove",
   "metadata": {},
   "outputs": [],
   "source": []
  }
 ],
 "metadata": {
  "kernelspec": {
   "display_name": "Python 3",
   "language": "python",
   "name": "python3"
  },
  "language_info": {
   "codemirror_mode": {
    "name": "ipython",
    "version": 3
   },
   "file_extension": ".py",
   "mimetype": "text/x-python",
   "name": "python",
   "nbconvert_exporter": "python",
   "pygments_lexer": "ipython3",
   "version": "3.8.5"
  }
 },
 "nbformat": 4,
 "nbformat_minor": 5
}
